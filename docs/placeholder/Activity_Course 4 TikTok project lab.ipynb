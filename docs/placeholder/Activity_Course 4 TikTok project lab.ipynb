{
 "cells": [
  {
   "cell_type": "markdown",
   "metadata": {
    "id": "DtNBZFHO3M7n"
   },
   "source": [
    "# **Hypothesis Testing**"
   ]
  },
  {
   "cell_type": "markdown",
   "metadata": {},
   "source": [
    "**Objective:** Find out which variables of the TikTok reports dataset have statistically significant difference between the reports with claims and the reports with opinion. The reason for this is to determine the features that will have an statistically significant impact on prediction of the claim status by the machine learning model.\n",
    "\n",
    "**Action:** "
   ]
  },
  {
   "cell_type": "code",
   "execution_count": 1,
   "metadata": {},
   "outputs": [],
   "source": [
    "import numpy as  np\n",
    "import pandas as pd\n",
    "from scipy import stats\n",
    "import matplotlib.pyplot as plt\n",
    "import seaborn as sns\n",
    "import statsmodels.stats.proportion as sp"
   ]
  },
  {
   "cell_type": "code",
   "execution_count": 2,
   "metadata": {
    "id": "HLhV9YACjlC4"
   },
   "outputs": [],
   "source": [
    "data = pd.read_csv(\"../datasets/tiktok_dataset_cleaned.csv\")\n",
    "raw_data = pd.read_csv(\"../datasets/tiktok_dataset.csv\")"
   ]
  },
  {
   "cell_type": "code",
   "execution_count": 3,
   "metadata": {},
   "outputs": [
    {
     "name": "stdout",
     "output_type": "stream",
     "text": [
      "<class 'pandas.core.frame.DataFrame'>\n",
      "RangeIndex: 19064 entries, 0 to 19063\n",
      "Data columns (total 15 columns):\n",
      " #   Column                    Non-Null Count  Dtype  \n",
      "---  ------                    --------------  -----  \n",
      " 0   claim_status              19064 non-null  object \n",
      " 1   video_duration_sec        19064 non-null  int64  \n",
      " 2   video_transcription_text  19064 non-null  object \n",
      " 3   verified_status           19064 non-null  object \n",
      " 4   author_ban_status         19064 non-null  object \n",
      " 5   video_view_count          19064 non-null  float64\n",
      " 6   video_like_count          19064 non-null  float64\n",
      " 7   video_share_count         19064 non-null  float64\n",
      " 8   video_download_count      19064 non-null  float64\n",
      " 9   video_comment_count       19064 non-null  float64\n",
      " 10  video_view_count_log      19064 non-null  float64\n",
      " 11  video_like_count_log      19064 non-null  float64\n",
      " 12  video_share_count_log     19064 non-null  float64\n",
      " 13  video_download_count_log  19064 non-null  float64\n",
      " 14  video_comment_count_log   19064 non-null  float64\n",
      "dtypes: float64(10), int64(1), object(4)\n",
      "memory usage: 2.2+ MB\n"
     ]
    }
   ],
   "source": [
    "data.info()"
   ]
  },
  {
   "cell_type": "markdown",
   "metadata": {},
   "source": [
    "# Hypothesis Testing\n",
    "Following hypothesis testing will be two-sample t-test to determine whether there is a statistically significant difference between the rates of claims and opinions. Here the log-transformed version of view, like, share, download and comment is used because it is more normal distributed than the originial right skewed distribution.<br> \n",
    "Null Hypothesis: There is no difference between the rates of claims and the rates of opinions. <br>\n",
    "Alternative Hypothesis: There is a statistically significant difference between the rates of claims and the rates of opinions.\n",
    "Significance level: 1%\n",
    "\n"
   ]
  },
  {
   "cell_type": "code",
   "execution_count": 4,
   "metadata": {},
   "outputs": [],
   "source": [
    "claim_data = data[data[\"claim_status\"] == \"claim\"]\n",
    "opinion_data = data[data[\"claim_status\"] == \"opinion\"]\n",
    "rates_list = ['video_duration_sec','video_view_count_log', 'video_like_count_log', 'video_share_count_log',\n",
    "       'video_download_count_log', 'video_comment_count_log']\n",
    "significance_level = 0.01"
   ]
  },
  {
   "cell_type": "code",
   "execution_count": 5,
   "metadata": {},
   "outputs": [
    {
     "data": {
      "text/plain": [
       "0.6157541234477404"
      ]
     },
     "execution_count": 5,
     "metadata": {},
     "output_type": "execute_result"
    }
   ],
   "source": [
    "rate = rates_list[0]\n",
    "stats.ttest_ind(a=claim_data[rate], b=opinion_data[rate], equal_var=False).pvalue "
   ]
  },
  {
   "cell_type": "code",
   "execution_count": 6,
   "metadata": {},
   "outputs": [
    {
     "name": "stdout",
     "output_type": "stream",
     "text": [
      "The difference in video_duration_sec between claims and opinions is by chance with a p-value of 0.6157541234477404.\n",
      "The difference in video_view_count_log between claims and opinions is definitely statistically significant with a p-value of 0.0.\n",
      "The difference in video_like_count_log between claims and opinions is definitely statistically significant with a p-value of 0.0.\n",
      "The difference in video_share_count_log between claims and opinions is definitely statistically significant with a p-value of 0.0.\n",
      "The difference in video_download_count_log between claims and opinions is definitely statistically significant with a p-value of 0.0.\n",
      "The difference in video_comment_count_log between claims and opinions is definitely statistically significant with a p-value of 0.0.\n"
     ]
    }
   ],
   "source": [
    "for rate in rates_list:\n",
    "  p_value = stats.ttest_ind(a=claim_data[rate], b=opinion_data[rate], equal_var=False).pvalue\n",
    "  decision = \"definitely statistically significant\" if p_value * 1000 < significance_level else \"statistically significant\" if p_value < significance_level else \"by chance\"\n",
    "  print(f\"The difference in {rate} between claims and opinions is {decision} with a p-value of {p_value}.\")"
   ]
  },
  {
   "cell_type": "markdown",
   "metadata": {},
   "source": [
    "**The sample size of 9000 leads to p-value close to 0. Therefore use sample size of 30, iterate it and take the mean p-value.** "
   ]
  },
  {
   "cell_type": "code",
   "execution_count": 7,
   "metadata": {},
   "outputs": [
    {
     "name": "stdout",
     "output_type": "stream",
     "text": [
      "The difference in video_duration_sec between claims and opinions is by chance with a p-value of 0.5147650816599904.\n",
      "The difference in video_view_count_log between claims and opinions is definitely statistically significant with a p-value of 6.4264515880335315e-18.\n",
      "The difference in video_like_count_log between claims and opinions is definitely statistically significant with a p-value of 1.2622720170340637e-14.\n",
      "The difference in video_share_count_log between claims and opinions is definitely statistically significant with a p-value of 8.803804790889653e-12.\n",
      "The difference in video_download_count_log between claims and opinions is definitely statistically significant with a p-value of 1.2519545160938953e-11.\n",
      "The difference in video_comment_count_log between claims and opinions is definitely statistically significant with a p-value of 2.5881746120101935e-11.\n"
     ]
    }
   ],
   "source": [
    "for rate in rates_list:\n",
    "  p_list = []\n",
    "  for i in range(1000):\n",
    "    p_value = stats.ttest_ind(a=claim_data[rate].sample(30), b=opinion_data[rate].sample(30), equal_var=False).pvalue\n",
    "    p_list.append(p_value)\n",
    "  \n",
    "  p_value = np.array(p_list).mean()\n",
    "  decision = (\"definitely statistically significant\" if p_value * 1000 < significance_level \n",
    "                                                    else \"statistically significant\" if p_value < significance_level else \"by chance\")\n",
    "  print(f\"The difference in {rate} between claims and opinions is {decision} with a p-value of {p_value}.\")"
   ]
  },
  {
   "cell_type": "markdown",
   "metadata": {},
   "source": [
    "**Reject** null hyptohesis of *view, like, share, download, comment*. <br>\n",
    "**Fail to Reject** null hypothesis of *duration* (p-value 0.5 > 0.01)\n",
    "\n",
    "Now test the author ban status and author verified status for claims and opinions. Proportion z-tests are hypothesis tests that observes the p-value between categorical samples. <br>\n",
    "**Null Hypothesis:** There is no difference between the status proportion of claims and the status proportion of opinions. <br>\n",
    "**Alternative Hypothesis:** There is a statistically significant difference between the status proportion of claims and the status proportion of opinions.\n",
    "**Significance level:** 1%"
   ]
  },
  {
   "cell_type": "code",
   "execution_count": 8,
   "metadata": {},
   "outputs": [
    {
     "data": {
      "text/plain": [
       "Index(['claim_status', 'video_duration_sec', 'video_transcription_text',\n",
       "       'verified_status', 'author_ban_status', 'video_view_count',\n",
       "       'video_like_count', 'video_share_count', 'video_download_count',\n",
       "       'video_comment_count', 'video_view_count_log', 'video_like_count_log',\n",
       "       'video_share_count_log', 'video_download_count_log',\n",
       "       'video_comment_count_log'],\n",
       "      dtype='object')"
      ]
     },
     "execution_count": 8,
     "metadata": {},
     "output_type": "execute_result"
    }
   ],
   "source": [
    "data.columns"
   ]
  },
  {
   "cell_type": "code",
   "execution_count": 9,
   "metadata": {},
   "outputs": [
    {
     "name": "stdout",
     "output_type": "stream",
     "text": [
      "[1, 0]\n"
     ]
    }
   ],
   "source": [
    "a = [0,0]\n",
    "a[0] =1\n",
    "print(a)"
   ]
  },
  {
   "cell_type": "code",
   "execution_count": 10,
   "metadata": {},
   "outputs": [
    {
     "data": {
      "image/png": "[encoded data removed]",
      "text/plain": [
       "<Figure size 640x480 with 1 Axes>"
      ]
     },
     "metadata": {},
     "output_type": "display_data"
    },
    {
     "name": "stdout",
     "output_type": "stream",
     "text": [
      "The difference in author verified status between claims and opinions is definitely statistically significant with a p-value of 1.0636774322810105e-122.\n"
     ]
    },
    {
     "data": {
      "image/png": "[encoded data removed]",
      "text/plain": [
       "<Figure size 640x480 with 1 Axes>"
      ]
     },
     "metadata": {},
     "output_type": "display_data"
    },
    {
     "name": "stdout",
     "output_type": "stream",
     "text": [
      "The difference in author verified status between claims and opinions is definitely statistically significant with a p-value of 0.0.\n"
     ]
    }
   ],
   "source": [
    "# calculate ztests of proportion automatically, based on index of the GroupBy Dataframe\n",
    "\n",
    "for status in ['verified_status', 'author_ban_status']:\n",
    "  proportion = data.groupby([\"claim_status\", status])[status].count()\n",
    "  sns.histplot(x=data[\"claim_status\"] , hue=data[status], multiple=\"dodge\")\n",
    "  plt.show()\n",
    "  total = [0,0]\n",
    "  for i in range(2):\n",
    "    l = len(proportion.index)\n",
    "    sample1 = proportion.iloc[0]\n",
    "    sample2 = proportion.iloc[l//2]\n",
    "\n",
    "    for j in range(l//2):\n",
    "      total[i] += proportion.iloc[j + (l//2 * i)]\n",
    "\n",
    "  success = np.array([sample1,sample2])\n",
    "  total = np.array(total)\n",
    "\n",
    "  p_value = sp.proportions_ztest(count=success, nobs=total, alternative=\"two-sided\")[1]\n",
    "  decision = \"definitely statistically significant\" if p_value * 1000 < significance_level else \"statistically significant\" if p_value < significance_level else \"by chance\"\n",
    "\n",
    "  print(f\"The difference in author verified status between claims and opinions is {decision} with a p-value of {p_value}.\")\n"
   ]
  },
  {
   "cell_type": "markdown",
   "metadata": {},
   "source": [
    "**The differences in author verified status and author ban status between claims and opinions are both statistically significant <br>\n",
    "because their p-values are close to 0 and not even close to the significacne level of 0.01.**"
   ]
  },
  {
   "cell_type": "code",
   "execution_count": 11,
   "metadata": {},
   "outputs": [
    {
     "data": {
      "text/html": [
       "<div>\n",
       "<style scoped>\n",
       "    .dataframe tbody tr th:only-of-type {\n",
       "        vertical-align: middle;\n",
       "    }\n",
       "\n",
       "    .dataframe tbody tr th {\n",
       "        vertical-align: top;\n",
       "    }\n",
       "\n",
       "    .dataframe thead th {\n",
       "        text-align: right;\n",
       "    }\n",
       "</style>\n",
       "<table border=\"1\" class=\"dataframe\">\n",
       "  <thead>\n",
       "    <tr style=\"text-align: right;\">\n",
       "      <th></th>\n",
       "      <th>claim_status</th>\n",
       "      <th>video_duration_sec</th>\n",
       "      <th>video_transcription_text</th>\n",
       "      <th>verified_status</th>\n",
       "      <th>author_ban_status</th>\n",
       "      <th>video_view_count</th>\n",
       "      <th>video_like_count</th>\n",
       "      <th>video_share_count</th>\n",
       "      <th>video_download_count</th>\n",
       "      <th>video_comment_count</th>\n",
       "      <th>video_view_count_log</th>\n",
       "      <th>video_like_count_log</th>\n",
       "      <th>video_share_count_log</th>\n",
       "      <th>video_download_count_log</th>\n",
       "      <th>video_comment_count_log</th>\n",
       "    </tr>\n",
       "  </thead>\n",
       "  <tbody>\n",
       "    <tr>\n",
       "      <th>0</th>\n",
       "      <td>claim</td>\n",
       "      <td>59</td>\n",
       "      <td>someone shared with me that drone deliveries a...</td>\n",
       "      <td>not verified</td>\n",
       "      <td>under review</td>\n",
       "      <td>343296.0</td>\n",
       "      <td>19425.0</td>\n",
       "      <td>241.0</td>\n",
       "      <td>1.0</td>\n",
       "      <td>0.0</td>\n",
       "      <td>12.746348</td>\n",
       "      <td>9.874316</td>\n",
       "      <td>5.484797</td>\n",
       "      <td>0.000000</td>\n",
       "      <td>0.000000</td>\n",
       "    </tr>\n",
       "    <tr>\n",
       "      <th>1</th>\n",
       "      <td>claim</td>\n",
       "      <td>32</td>\n",
       "      <td>someone shared with me that there are more mic...</td>\n",
       "      <td>not verified</td>\n",
       "      <td>active</td>\n",
       "      <td>140877.0</td>\n",
       "      <td>77355.0</td>\n",
       "      <td>19034.0</td>\n",
       "      <td>1161.0</td>\n",
       "      <td>684.0</td>\n",
       "      <td>11.855642</td>\n",
       "      <td>11.256160</td>\n",
       "      <td>9.853982</td>\n",
       "      <td>7.057037</td>\n",
       "      <td>6.527958</td>\n",
       "    </tr>\n",
       "    <tr>\n",
       "      <th>2</th>\n",
       "      <td>claim</td>\n",
       "      <td>31</td>\n",
       "      <td>someone shared with me that american industria...</td>\n",
       "      <td>not verified</td>\n",
       "      <td>active</td>\n",
       "      <td>902185.0</td>\n",
       "      <td>97690.0</td>\n",
       "      <td>2858.0</td>\n",
       "      <td>833.0</td>\n",
       "      <td>329.0</td>\n",
       "      <td>13.712575</td>\n",
       "      <td>11.489554</td>\n",
       "      <td>7.957877</td>\n",
       "      <td>6.725034</td>\n",
       "      <td>5.796058</td>\n",
       "    </tr>\n",
       "    <tr>\n",
       "      <th>3</th>\n",
       "      <td>claim</td>\n",
       "      <td>25</td>\n",
       "      <td>someone shared with me that the metro of st. p...</td>\n",
       "      <td>not verified</td>\n",
       "      <td>active</td>\n",
       "      <td>437506.0</td>\n",
       "      <td>239954.0</td>\n",
       "      <td>34812.0</td>\n",
       "      <td>1234.0</td>\n",
       "      <td>584.0</td>\n",
       "      <td>12.988846</td>\n",
       "      <td>12.388203</td>\n",
       "      <td>10.457717</td>\n",
       "      <td>7.118016</td>\n",
       "      <td>6.369901</td>\n",
       "    </tr>\n",
       "    <tr>\n",
       "      <th>4</th>\n",
       "      <td>claim</td>\n",
       "      <td>19</td>\n",
       "      <td>someone shared with me that the number of busi...</td>\n",
       "      <td>not verified</td>\n",
       "      <td>active</td>\n",
       "      <td>56167.0</td>\n",
       "      <td>34987.0</td>\n",
       "      <td>4110.0</td>\n",
       "      <td>547.0</td>\n",
       "      <td>152.0</td>\n",
       "      <td>10.936085</td>\n",
       "      <td>10.462732</td>\n",
       "      <td>8.321178</td>\n",
       "      <td>6.304449</td>\n",
       "      <td>5.023881</td>\n",
       "    </tr>\n",
       "    <tr>\n",
       "      <th>...</th>\n",
       "      <td>...</td>\n",
       "      <td>...</td>\n",
       "      <td>...</td>\n",
       "      <td>...</td>\n",
       "      <td>...</td>\n",
       "      <td>...</td>\n",
       "      <td>...</td>\n",
       "      <td>...</td>\n",
       "      <td>...</td>\n",
       "      <td>...</td>\n",
       "      <td>...</td>\n",
       "      <td>...</td>\n",
       "      <td>...</td>\n",
       "      <td>...</td>\n",
       "      <td>...</td>\n",
       "    </tr>\n",
       "    <tr>\n",
       "      <th>19059</th>\n",
       "      <td>opinion</td>\n",
       "      <td>49</td>\n",
       "      <td>in our opinion the earth holds about 11 quinti...</td>\n",
       "      <td>not verified</td>\n",
       "      <td>active</td>\n",
       "      <td>6067.0</td>\n",
       "      <td>423.0</td>\n",
       "      <td>81.0</td>\n",
       "      <td>8.0</td>\n",
       "      <td>2.0</td>\n",
       "      <td>8.710620</td>\n",
       "      <td>6.047372</td>\n",
       "      <td>4.394449</td>\n",
       "      <td>2.079442</td>\n",
       "      <td>0.693147</td>\n",
       "    </tr>\n",
       "    <tr>\n",
       "      <th>19060</th>\n",
       "      <td>opinion</td>\n",
       "      <td>23</td>\n",
       "      <td>in our opinion the queens in ant colonies live...</td>\n",
       "      <td>not verified</td>\n",
       "      <td>active</td>\n",
       "      <td>2973.0</td>\n",
       "      <td>820.0</td>\n",
       "      <td>70.0</td>\n",
       "      <td>3.0</td>\n",
       "      <td>0.0</td>\n",
       "      <td>7.997327</td>\n",
       "      <td>6.709304</td>\n",
       "      <td>4.248495</td>\n",
       "      <td>1.098612</td>\n",
       "      <td>0.000000</td>\n",
       "    </tr>\n",
       "    <tr>\n",
       "      <th>19061</th>\n",
       "      <td>opinion</td>\n",
       "      <td>50</td>\n",
       "      <td>in our opinion the moon is moving away from th...</td>\n",
       "      <td>not verified</td>\n",
       "      <td>active</td>\n",
       "      <td>734.0</td>\n",
       "      <td>102.0</td>\n",
       "      <td>7.0</td>\n",
       "      <td>2.0</td>\n",
       "      <td>1.0</td>\n",
       "      <td>6.598509</td>\n",
       "      <td>4.624973</td>\n",
       "      <td>1.945910</td>\n",
       "      <td>0.693147</td>\n",
       "      <td>0.000000</td>\n",
       "    </tr>\n",
       "    <tr>\n",
       "      <th>19062</th>\n",
       "      <td>opinion</td>\n",
       "      <td>8</td>\n",
       "      <td>in our opinion lightning strikes somewhere on ...</td>\n",
       "      <td>not verified</td>\n",
       "      <td>active</td>\n",
       "      <td>3394.0</td>\n",
       "      <td>655.0</td>\n",
       "      <td>123.0</td>\n",
       "      <td>11.0</td>\n",
       "      <td>4.0</td>\n",
       "      <td>8.129764</td>\n",
       "      <td>6.484635</td>\n",
       "      <td>4.812184</td>\n",
       "      <td>2.397895</td>\n",
       "      <td>1.386294</td>\n",
       "    </tr>\n",
       "    <tr>\n",
       "      <th>19063</th>\n",
       "      <td>opinion</td>\n",
       "      <td>58</td>\n",
       "      <td>in our opinion a pineapple plant can only prod...</td>\n",
       "      <td>not verified</td>\n",
       "      <td>active</td>\n",
       "      <td>5034.0</td>\n",
       "      <td>815.0</td>\n",
       "      <td>281.0</td>\n",
       "      <td>11.0</td>\n",
       "      <td>1.0</td>\n",
       "      <td>8.523970</td>\n",
       "      <td>6.703188</td>\n",
       "      <td>5.638355</td>\n",
       "      <td>2.397895</td>\n",
       "      <td>0.000000</td>\n",
       "    </tr>\n",
       "  </tbody>\n",
       "</table>\n",
       "<p>19064 rows × 15 columns</p>\n",
       "</div>"
      ],
      "text/plain": [
       "      claim_status  video_duration_sec  \\\n",
       "0            claim                  59   \n",
       "1            claim                  32   \n",
       "2            claim                  31   \n",
       "3            claim                  25   \n",
       "4            claim                  19   \n",
       "...            ...                 ...   \n",
       "19059      opinion                  49   \n",
       "19060      opinion                  23   \n",
       "19061      opinion                  50   \n",
       "19062      opinion                   8   \n",
       "19063      opinion                  58   \n",
       "\n",
       "                                video_transcription_text verified_status  \\\n",
       "0      someone shared with me that drone deliveries a...    not verified   \n",
       "1      someone shared with me that there are more mic...    not verified   \n",
       "2      someone shared with me that american industria...    not verified   \n",
       "3      someone shared with me that the metro of st. p...    not verified   \n",
       "4      someone shared with me that the number of busi...    not verified   \n",
       "...                                                  ...             ...   \n",
       "19059  in our opinion the earth holds about 11 quinti...    not verified   \n",
       "19060  in our opinion the queens in ant colonies live...    not verified   \n",
       "19061  in our opinion the moon is moving away from th...    not verified   \n",
       "19062  in our opinion lightning strikes somewhere on ...    not verified   \n",
       "19063  in our opinion a pineapple plant can only prod...    not verified   \n",
       "\n",
       "      author_ban_status  video_view_count  video_like_count  \\\n",
       "0          under review          343296.0           19425.0   \n",
       "1                active          140877.0           77355.0   \n",
       "2                active          902185.0           97690.0   \n",
       "3                active          437506.0          239954.0   \n",
       "4                active           56167.0           34987.0   \n",
       "...                 ...               ...               ...   \n",
       "19059            active            6067.0             423.0   \n",
       "19060            active            2973.0             820.0   \n",
       "19061            active             734.0             102.0   \n",
       "19062            active            3394.0             655.0   \n",
       "19063            active            5034.0             815.0   \n",
       "\n",
       "       video_share_count  video_download_count  video_comment_count  \\\n",
       "0                  241.0                   1.0                  0.0   \n",
       "1                19034.0                1161.0                684.0   \n",
       "2                 2858.0                 833.0                329.0   \n",
       "3                34812.0                1234.0                584.0   \n",
       "4                 4110.0                 547.0                152.0   \n",
       "...                  ...                   ...                  ...   \n",
       "19059               81.0                   8.0                  2.0   \n",
       "19060               70.0                   3.0                  0.0   \n",
       "19061                7.0                   2.0                  1.0   \n",
       "19062              123.0                  11.0                  4.0   \n",
       "19063              281.0                  11.0                  1.0   \n",
       "\n",
       "       video_view_count_log  video_like_count_log  video_share_count_log  \\\n",
       "0                 12.746348              9.874316               5.484797   \n",
       "1                 11.855642             11.256160               9.853982   \n",
       "2                 13.712575             11.489554               7.957877   \n",
       "3                 12.988846             12.388203              10.457717   \n",
       "4                 10.936085             10.462732               8.321178   \n",
       "...                     ...                   ...                    ...   \n",
       "19059              8.710620              6.047372               4.394449   \n",
       "19060              7.997327              6.709304               4.248495   \n",
       "19061              6.598509              4.624973               1.945910   \n",
       "19062              8.129764              6.484635               4.812184   \n",
       "19063              8.523970              6.703188               5.638355   \n",
       "\n",
       "       video_download_count_log  video_comment_count_log  \n",
       "0                      0.000000                 0.000000  \n",
       "1                      7.057037                 6.527958  \n",
       "2                      6.725034                 5.796058  \n",
       "3                      7.118016                 6.369901  \n",
       "4                      6.304449                 5.023881  \n",
       "...                         ...                      ...  \n",
       "19059                  2.079442                 0.693147  \n",
       "19060                  1.098612                 0.000000  \n",
       "19061                  0.693147                 0.000000  \n",
       "19062                  2.397895                 1.386294  \n",
       "19063                  2.397895                 0.000000  \n",
       "\n",
       "[19064 rows x 15 columns]"
      ]
     },
     "execution_count": 11,
     "metadata": {},
     "output_type": "execute_result"
    }
   ],
   "source": [
    "data"
   ]
  },
  {
   "cell_type": "markdown",
   "metadata": {},
   "source": [
    "**All variables were analyzed expect video_transcription_text. Lets do that.**"
   ]
  },
  {
   "cell_type": "code",
   "execution_count": 12,
   "metadata": {},
   "outputs": [
    {
     "data": {
      "text/plain": [
       "count                                                 19064\n",
       "unique                                                18992\n",
       "top       a friend read  in the media a claim that floss...\n",
       "freq                                                      2\n",
       "Name: video_transcription_text, dtype: object"
      ]
     },
     "execution_count": 12,
     "metadata": {},
     "output_type": "execute_result"
    }
   ],
   "source": [
    "data[\"video_transcription_text\"].describe()"
   ]
  },
  {
   "cell_type": "code",
   "execution_count": 13,
   "metadata": {},
   "outputs": [],
   "source": [
    "data[\"text_length\"] = data[\"video_transcription_text\"].apply(lambda x: len(x))"
   ]
  },
  {
   "cell_type": "code",
   "execution_count": 14,
   "metadata": {},
   "outputs": [],
   "source": [
    "claim_data = data[data[\"claim_status\"] == \"claim\"]\n",
    "opinion_data = data[data[\"claim_status\"] == \"opinion\"]"
   ]
  },
  {
   "cell_type": "code",
   "execution_count": 15,
   "metadata": {},
   "outputs": [
    {
     "data": {
      "text/plain": [
       "<Axes: xlabel='text_length', ylabel='Count'>"
      ]
     },
     "execution_count": 15,
     "metadata": {},
     "output_type": "execute_result"
    },
    {
     "data": {
      "image/png": "[encoded data removed]",
      "text/plain": [
       "<Figure size 640x480 with 1 Axes>"
      ]
     },
     "metadata": {},
     "output_type": "display_data"
    }
   ],
   "source": [
    "sns.histplot(data[\"text_length\"])"
   ]
  },
  {
   "cell_type": "code",
   "execution_count": 16,
   "metadata": {},
   "outputs": [
    {
     "name": "stdout",
     "output_type": "stream",
     "text": [
      "The difference in text_length between claims and opinions is by chance with a p-value of 0.07869274953748041.\n"
     ]
    }
   ],
   "source": [
    "rate = \"text_length\"\n",
    "p_list = []\n",
    "for i in range(1000):\n",
    "  p_value = stats.ttest_ind(a=claim_data[rate].sample(30), b=opinion_data[rate].sample(30), equal_var=False).pvalue\n",
    "  p_list.append(p_value)\n",
    "\n",
    "p_value = np.array(p_list).mean()\n",
    "decision = \"definitely statistically significant\" if p_value * 1000 < significance_level else \"statistically significant\" if p_value < significance_level else \"by chance\"\n",
    "print(f\"The difference in {rate} between claims and opinions is {decision} with a p-value of {p_value}.\")"
   ]
  },
  {
   "cell_type": "markdown",
   "metadata": {},
   "source": [
    "**The transcription text length is not statistically significant, therefore we dont need it for further steps. We dont the duration variable as well.**"
   ]
  },
  {
   "cell_type": "code",
   "execution_count": 17,
   "metadata": {},
   "outputs": [],
   "source": [
    "final_data = data.drop(columns=[\"video_transcription_text\", \"text_length\", \"video_duration_sec\"])"
   ]
  },
  {
   "cell_type": "markdown",
   "metadata": {},
   "source": [
    "**For following XGBoost and Random Forest, we can use the normal dataset instead of log-transformed <br> \n",
    "because XGBoost and Random Forest are tree-based algorithms which are generally not sensitive to the scale of features.**"
   ]
  },
  {
   "cell_type": "code",
   "execution_count": 19,
   "metadata": {},
   "outputs": [],
   "source": [
    "final_data = final_data.drop(columns=['video_view_count_log', 'video_like_count_log', 'video_share_count_log', 'video_download_count_log', 'video_comment_count_log'])"
   ]
  },
  {
   "cell_type": "code",
   "execution_count": 20,
   "metadata": {},
   "outputs": [
    {
     "name": "stdout",
     "output_type": "stream",
     "text": [
      "<class 'pandas.core.frame.DataFrame'>\n",
      "RangeIndex: 19064 entries, 0 to 19063\n",
      "Data columns (total 8 columns):\n",
      " #   Column                Non-Null Count  Dtype  \n",
      "---  ------                --------------  -----  \n",
      " 0   claim_status          19064 non-null  object \n",
      " 1   verified_status       19064 non-null  object \n",
      " 2   author_ban_status     19064 non-null  object \n",
      " 3   video_view_count      19064 non-null  float64\n",
      " 4   video_like_count      19064 non-null  float64\n",
      " 5   video_share_count     19064 non-null  float64\n",
      " 6   video_download_count  19064 non-null  float64\n",
      " 7   video_comment_count   19064 non-null  float64\n",
      "dtypes: float64(5), object(3)\n",
      "memory usage: 1.2+ MB\n"
     ]
    }
   ],
   "source": [
    "final_data.info()"
   ]
  },
  {
   "cell_type": "code",
   "execution_count": 21,
   "metadata": {},
   "outputs": [
    {
     "name": "stdout",
     "output_type": "stream",
     "text": [
      "File already exists\n"
     ]
    }
   ],
   "source": [
    "try:\n",
    "  with open(\"../datasets/tiktok_final_dataset.csv\", \"r\"):\n",
    "    print(\"File already exists\")\n",
    "except FileNotFoundError:\n",
    "  final_data.to_csv(\"../datasets/tiktok_final_dataset.csv\", index=False)"
   ]
  }
 ],
 "metadata": {
  "colab": {
   "provenance": [],
   "toc_visible": true
  },
  "kernelspec": {
   "display_name": "Python 3",
   "language": "python",
   "name": "python3"
  },
  "language_info": {
   "codemirror_mode": {
    "name": "ipython",
    "version": 3
   },
   "file_extension": ".py",
   "mimetype": "text/x-python",
   "name": "python",
   "nbconvert_exporter": "python",
   "pygments_lexer": "ipython3",
   "version": "3.11.4"
  }
 },
 "nbformat": 4,
 "nbformat_minor": 1
}
